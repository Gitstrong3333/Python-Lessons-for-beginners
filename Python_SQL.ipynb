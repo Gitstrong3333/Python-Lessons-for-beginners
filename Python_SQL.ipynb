{
 "cells": [
  {
   "cell_type": "code",
   "execution_count": 1,
   "id": "200f7122-40c6-47d9-8c15-77a4ce526fbc",
   "metadata": {},
   "outputs": [
    {
     "name": "stdout",
     "output_type": "stream",
     "text": [
      "   Age  Name  Gender\n",
      "0   20  Coby    Male\n",
      "1   16    S1  Female\n",
      "2   17    S2  Female\n",
      "3   18    S3  Female\n"
     ]
    }
   ],
   "source": [
    "import pandas as pd\n",
    "import pandasql as pdsql\n",
    "\n",
    "data = {\n",
    "       'Name' : ['S1', 'S2', 'S3', 'Coby'],\n",
    "       'Age' : [16, 17, 18, 20],\n",
    "       'Gender' : ['Female', 'Female', 'Female', 'Male']\n",
    "       }\n",
    "\n",
    "df = pd.DataFrame(data)\n",
    "\n",
    "query = \"SELECT Age, Name, Gender From  df ORDER BY Name ASC\"\n",
    "result = pdsql.sqldf(query)\n",
    "\n",
    "print(result)"
   ]
  },
  {
   "cell_type": "code",
   "execution_count": null,
   "id": "67510046-9552-4c44-a83f-4099a89b1144",
   "metadata": {},
   "outputs": [],
   "source": []
  }
 ],
 "metadata": {
  "kernelspec": {
   "display_name": "Python 3 (ipykernel)",
   "language": "python",
   "name": "python3"
  },
  "language_info": {
   "codemirror_mode": {
    "name": "ipython",
    "version": 3
   },
   "file_extension": ".py",
   "mimetype": "text/x-python",
   "name": "python",
   "nbconvert_exporter": "python",
   "pygments_lexer": "ipython3",
   "version": "3.11.5"
  }
 },
 "nbformat": 4,
 "nbformat_minor": 5
}
