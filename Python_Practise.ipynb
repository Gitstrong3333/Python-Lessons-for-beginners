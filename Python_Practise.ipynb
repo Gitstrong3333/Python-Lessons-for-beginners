{
 "cells": [
  {
   "cell_type": "code",
   "execution_count": null,
   "id": "3ded647c-5070-4422-b8d4-1dbf24ab8ef3",
   "metadata": {},
   "outputs": [],
   "source": [
    "myvar = 5\n",
    "print(myvar)"
   ]
  },
  {
   "cell_type": "code",
   "execution_count": null,
   "id": "047f26e9-ebb0-46cd-82b3-fd43a12ee1c9",
   "metadata": {},
   "outputs": [],
   "source": [
    "# Creative Programs by Sharmila "
   ]
  },
  {
   "cell_type": "code",
   "execution_count": null,
   "id": "5cd56ec8-de33-4ec5-a885-c7edf33e016a",
   "metadata": {},
   "outputs": [],
   "source": [
    "num1 = int(input(\"enter the 1st number :\"))\n",
    "num2 = int(input(\"enter the 2nd number :\"))\n",
    "\n",
    "if(num1 > num2):\n",
    "  print(\"num1 is greater\")\n",
    "elif(num2 > num1):\n",
    "  print(\"num2 is grneater\")\n",
    "           "
   ]
  },
  {
   "cell_type": "code",
   "execution_count": null,
   "id": "9fad1cd0-ea64-4246-b84f-c634f5ecd4c3",
   "metadata": {},
   "outputs": [],
   "source": [
    "TextMe = int(input(\"Enter the TextMe Number :\"))\n",
    "if TextMe == 6:\n",
    "    print(\"TextMe equals 6! \")\n",
    "else:\n",
    "    print(\"TextMe does not equals 6!\")"
   ]
  },
  {
   "cell_type": "code",
   "execution_count": 5,
   "id": "dfd535f3-a6a3-4ebb-ad5d-4909b7e7f168",
   "metadata": {},
   "outputs": [
    {
     "name": "stdout",
     "output_type": "stream",
     "text": [
      "1. Red\n",
      "2. Orange\n",
      "3. Yellow\n",
      "4. Green\n",
      "5. Blue\n",
      "6. Purple\n"
     ]
    },
    {
     "name": "stdin",
     "output_type": "stream",
     "text": [
      "Select your favorite color : 2\n"
     ]
    },
    {
     "name": "stdout",
     "output_type": "stream",
     "text": [
      "You have chosen orange:\n"
     ]
    }
   ],
   "source": [
    "print(\"1. Red\")\n",
    "print(\"2. Orange\")\n",
    "print(\"3. Yellow\")\n",
    "print(\"4. Green\")\n",
    "print(\"5. Blue\")\n",
    "print(\"6. Purple\")\n",
    "\n",
    "choice = int(input(\"Select your favorite color :\"))\n",
    "\n",
    "#decision making\n",
    "\n",
    "if (choice == 1):\n",
    " print(\"You have chosen red:\")\n",
    "elif (choice == 2):\n",
    " print(\"You have chosen orange:\")\n",
    "elif (choice == 3):\n",
    " print(\"You have chosen Yellow:\")\n",
    "elif (choice == 4):\n",
    " print(\"You have chosen Green:\")\n",
    "elif (choice == 5):\n",
    " print(\"You have chosen Blue:\")\n",
    "elif (choice == 6):\n",
    " print(\"You have chosen Purple:\")\n",
    "else:\n",
    " print(\"You have chosen a number that does not exist\")\n",
    " print(\"Have a great day\")\n",
    "\n",
    "\n",
    "\n",
    "\n",
    "\n",
    "\n",
    "\n",
    "\n"
   ]
  },
  {
   "cell_type": "code",
   "execution_count": 1,
   "id": "7c356bef-8ddc-4b1e-9125-955440102941",
   "metadata": {},
   "outputs": [
    {
     "name": "stdout",
     "output_type": "stream",
     "text": [
      "1. Eggs\n",
      "2. Pancakes\n",
      "3. Waffles\n",
      "4. Oatmeal\n"
     ]
    },
    {
     "name": "stdin",
     "output_type": "stream",
     "text": [
      "Select your favorite breakfast:  1\n"
     ]
    },
    {
     "name": "stdout",
     "output_type": "stream",
     "text": [
      "1. Wheat Toast\n",
      "2. Sour Dough\n",
      "3. Rye Toast\n",
      "4. Pancakes\n"
     ]
    },
    {
     "name": "stdin",
     "output_type": "stream",
     "text": [
      "Select your favorite bread:  1\n"
     ]
    },
    {
     "name": "stdout",
     "output_type": "stream",
     "text": [
      "You have chosen Wheat Toast:\n"
     ]
    },
    {
     "name": "stdin",
     "output_type": "stream",
     "text": [
      "Select your favorite Topping:  1\n"
     ]
    },
    {
     "name": "stdout",
     "output_type": "stream",
     "text": [
      "You have chosen Syrup and Wheat Toast :\n"
     ]
    }
   ],
   "source": [
    "print(\"1. Eggs\")\n",
    "print(\"2. Pancakes\")\n",
    "print(\"3. Waffles\")\n",
    "print(\"4. Oatmeal\")\n",
    "\n",
    "MainChoice = int(input(\"Select your favorite breakfast: \"))\n",
    "\n",
    "if MainChoice == 2:\n",
    "   \n",
    "    bread = int(input(\"Select your favorite bread: \"))\n",
    "\n",
    "    print(\"1. Wheat Toast\")\n",
    "    print(\"2. Sour Dough\")\n",
    "    print(\"3. Rye Toast\")\n",
    "    print(\"4. Pancakes\")\n",
    "\n",
    "    \n",
    "    if bread == 1:\n",
    "        print(\"You have chosen Wheat Toast:\")\n",
    "    elif bread == 2:\n",
    "        print(\"You have chosen Sour Dough:\")\n",
    "    elif bread == 3:\n",
    "        print(\"You have chosen Rye Toast:\")\n",
    "    elif bread == 4:\n",
    "        print(\"You have chosen Pancakes:\")\n",
    "    else:\n",
    "        print(\"You have chosen a bread that does not exist\")\n",
    "        print(\"Have a great day\")\n",
    "\n",
    "    print(\"1. Syrup\")\n",
    "    print(\"2. Strawberries\")\n",
    "    print(\"3. Powdered Sugar\")\n",
    "\n",
    "    Topping = int(input(\"Select your favorite Topping: \"))\n",
    "\n",
    "    if (Topping == 1) and (bread == 1):\n",
    "        print(\"You have chosen Syrup and Wheat Toast :\")\n",
    "    elif (Topping == 2) and (bread == 2):\n",
    "        print(\"You have chosen Strawberries and Sour Dough\")\n",
    "    elif (Topping == 3) and (bread == 3):\n",
    "        print(\"You have chosen Pancakes and Powdered Sugar:\")\n",
    "    else:\n",
    "        print(\"You have chosen a Topping that does not exist\")\n",
    "        print(\"Have a great day\")\n",
    "\n",
    "elif MainChoice == 3:\n",
    "    \n",
    "    print(\"1. Wheat Toast\")\n",
    "    print(\"2. Sour Dough\")\n",
    "    print(\"3. Rye Toast\")\n",
    "    print(\"4. Pancakes\")\n",
    "\n",
    "    \n",
    "    if bread == 1:\n",
    "        print(\"You have chosen Wheat Toast:\")\n",
    "    elif bread == 2:\n",
    "        print(\"You have chosen Sour Dough:\")\n",
    "    elif bread == 3:\n",
    "        print(\"You have chosen Rye Toast:\")\n",
    "    elif bread == 4:\n",
    "        print(\"You have chosen Pancakes:\")\n",
    "    else:\n",
    "        print(\"You have chosen a bread that does not exist\")\n",
    "        print(\"Have a great day\")\n",
    "\n",
    "    print(\"1. Syrup\")\n",
    "    print(\"2. Strawberries\")\n",
    "    print(\"3. Powdered Sugar\")\n",
    "\n",
    "    Topping = int(input(\"Select your favorite Topping: \"))\n",
    "\n",
    "    if (Topping == 1) and (bread == 1):\n",
    "        print(\"You have chosen Syrup and Wheat Toast :\")\n",
    "    elif (Topping == 2) and (bread == 2):\n",
    "        print(\"You have chosen Strawberries and Sour Dough\")\n",
    "    elif (Topping == 3) and (bread == 3):\n",
    "        print(\"You have chosen Pancakes and Powdered Sugar:\")\n",
    "    else:\n",
    "        print(\"You have chosen a Topping that does not exist\")\n",
    "        print(\"Have a great day\")\n",
    "\n",
    "elif MainChoice == 4:\n",
    "    print(\"You Chose Oatmeal\")\n",
    "elif MainChoice == 1:\n",
    "    print(\"1. Wheat Toast\")\n",
    "    print(\"2. Sour Dough\")\n",
    "    print(\"3. Rye Toast\")\n",
    "    print(\"4. Pancakes\")\n",
    "\n",
    "    bread = int(input(\"Select your favorite bread: \"))\n",
    "\n",
    "    if bread == 1:\n",
    "        print(\"You have chosen Wheat Toast:\")\n",
    "    elif bread == 2:\n",
    "        print(\"You have chosen Sour Dough:\")\n",
    "    elif bread == 3:\n",
    "        print(\"You have chosen Rye Toast:\")\n",
    "    elif bread == 4:\n",
    "        print(\"You have chosen Pancakes:\")\n",
    "    else:\n",
    "        print(\"You have chosen a bread that does not exist\")\n",
    "        print(\"Have a great day\")\n",
    "        \n",
    "    Topping = int(input(\"Select your favorite Topping: \"))\n",
    "\n",
    "    if (Topping == 1) and (bread == 1):\n",
    "        print(\"You have chosen Syrup and Wheat Toast :\")\n",
    "    elif (Topping == 2) and (bread == 2):\n",
    "        print(\"You have chosen Strawberries and Sour Dough\")\n",
    "    elif (Topping == 3) and (bread == 3):\n",
    "        print(\"You have chosen Pancakes and Powdered Sugar:\")\n",
    "    else:\n",
    "        print(\"You have chosen a Topping that does not exist\")\n",
    "        print(\"Have a great day\")\n",
    "else:\n",
    "    print(\"You have chosen a breakfast that does not exist\")"
   ]
  },
  {
   "cell_type": "code",
   "execution_count": 8,
   "id": "0a23d1ca-1e3c-4067-bb18-70b5c11d30fe",
   "metadata": {},
   "outputs": [
    {
     "name": "stdin",
     "output_type": "stream",
     "text": [
      "Type a letter: e\n"
     ]
    },
    {
     "name": "stdout",
     "output_type": "stream",
     "text": [
      "Letter  1 is e\n",
      "The string is blank\n"
     ]
    }
   ],
   "source": [
    "# for statements\n",
    "\n",
    "value = input(\"Type a letter:\")\n",
    "Letternum = 1\n",
    "for letter in value:\n",
    "    print(\"Letter \" ,Letternum, \"is\", letter)\n",
    "    Letternum += 1\n",
    "else:\n",
    "    print(\"The string is blank\")\n",
    "\n",
    "              "
   ]
  },
  {
   "cell_type": "code",
   "execution_count": 3,
   "id": "24078f61-ad3e-4975-b400-c96e6adc4b49",
   "metadata": {},
   "outputs": [
    {
     "name": "stdin",
     "output_type": "stream",
     "text": [
      "Enter the input for num1: 56\n",
      "Enter the input for num2: 23\n"
     ]
    },
    {
     "name": "stdout",
     "output_type": "stream",
     "text": [
      "   Add  subtract  multiply  division\n",
      "0   79        33      1288  2.434783\n"
     ]
    }
   ],
   "source": [
    "# functions in Python -- Very very important \n",
    "# Simple programme to understand the basic concept\n",
    "import pandas as pd \n",
    "\n",
    "def add(num1, num2):\n",
    "    return(num1 + num2)\n",
    "def subtract(num1, num2):\n",
    "    return(num1 - num2)\n",
    "def divide(num1, num2):\n",
    "    return(num1 / num2)\n",
    "def multiply(num1, num2):\n",
    "    return(num1 * num2)\n",
    "\n",
    "# Enter the input\n",
    "num1 = int(input(\"Enter the input for num1:\"))\n",
    "num2 = int(input(\"Enter the input for num2:\"))\n",
    "\n",
    "\n",
    "#Calculate the operations you need to perform\n",
    "Addition = add(num1,num2)\n",
    "Subtraction = subtract(num1,num2)\n",
    "division = divide(num1,num2)\n",
    "multiply = multiply(num1,num2)\n",
    "\n",
    "\n",
    "\n",
    "\n",
    "#create the dataframe \n",
    "operations = {\n",
    "      'Add' : [Addition],\n",
    "      'subtract' : [Subtraction],\n",
    "       'multiply' : [multiply],\n",
    "       'division' : [division]\n",
    "} \n",
    "\n",
    "df = pd.DataFrame(operations)\n",
    "\n",
    "print(df)\n",
    "\n",
    "\n"
   ]
  },
  {
   "cell_type": "code",
   "execution_count": 59,
   "id": "cf1e98ca-5eed-4ef7-a3ef-5d3cdde4b12d",
   "metadata": {},
   "outputs": [
    {
     "name": "stdout",
     "output_type": "stream",
     "text": [
      "S\n",
      "Sharm\n",
      "Sharm\n",
      "Sharmila is very smart personworking girl\n"
     ]
    }
   ],
   "source": [
    "s1 = \"Sharmila is very smart person\"\n",
    "s2 = \"Sharmila is a very Hard working girl\"\n",
    "print(s1[0])\n",
    "print(s1[0:5])\n",
    "print(s1[:5])\n",
    "s3 = s1[0:35] + s2[+ 24:]\n",
    "print(s3)\n"
   ]
  },
  {
   "cell_type": "code",
   "execution_count": 8,
   "id": "3eab05cf-ad5c-464d-b230-28f460c1dcb6",
   "metadata": {},
   "outputs": [
    {
     "name": "stdout",
     "output_type": "stream",
     "text": [
      "Mango\n",
      "Apple\n",
      "Orange\n",
      "Grapes\n"
     ]
    }
   ],
   "source": [
    "data = ['Mango', 'Apple', 'Orange', 'Grapes']\n",
    "for i in data:\n",
    "   print(i)"
   ]
  },
  {
   "cell_type": "code",
   "execution_count": 2,
   "id": "c1671df5-3cc8-4ca3-8835-e641c5c7b077",
   "metadata": {},
   "outputs": [
    {
     "name": "stdout",
     "output_type": "stream",
     "text": [
      "0\n",
      "1\n",
      "2\n",
      "3\n",
      "4\n",
      "5\n",
      "6\n",
      "7\n",
      "8\n",
      "9\n",
      "10\n"
     ]
    }
   ],
   "source": [
    "sum = 0\n",
    "while sum < 11:\n",
    "    print(sum)\n",
    "    sum+=1\n"
   ]
  },
  {
   "cell_type": "code",
   "execution_count": null,
   "id": "4fdbd629-85ff-4092-9ac8-3ecfec40424f",
   "metadata": {},
   "outputs": [],
   "source": []
  }
 ],
 "metadata": {
  "kernelspec": {
   "display_name": "Python 3 (ipykernel)",
   "language": "python",
   "name": "python3"
  },
  "language_info": {
   "codemirror_mode": {
    "name": "ipython",
    "version": 3
   },
   "file_extension": ".py",
   "mimetype": "text/x-python",
   "name": "python",
   "nbconvert_exporter": "python",
   "pygments_lexer": "ipython3",
   "version": "3.11.5"
  }
 },
 "nbformat": 4,
 "nbformat_minor": 5
}
