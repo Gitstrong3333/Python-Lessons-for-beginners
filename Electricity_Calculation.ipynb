{
 "cells": [
  {
   "cell_type": "code",
   "execution_count": 2,
   "id": "cab3ec09-59d3-44f2-969b-1a54e1dc9378",
   "metadata": {},
   "outputs": [
    {
     "name": "stdin",
     "output_type": "stream",
     "text": [
      "Enter kWh charges separated by space:  1000\n",
      "Enter monthly usage (kWh):  5\n",
      "Enter base charges separated by space:  .09\n"
     ]
    },
    {
     "name": "stdout",
     "output_type": "stream",
     "text": [
      "The average cost per kWh is: 100001.80 cents\n"
     ]
    }
   ],
   "source": [
    "def average_kwh_cost(k, u, b):\n",
    "    t = u * sum(k) + sum(b)\n",
    "    return (t / u) * 100\n",
    "\n",
    "k = [float(x) for x in input(\"Enter kWh charges separated by space: \").split()]\n",
    "u = int(input(\"Enter monthly usage (kWh): \"))\n",
    "b = [float(x) for x in input(\"Enter base charges separated by space: \").split()]\n",
    "\n",
    "average_cost = average_kwh_cost(k, u, b)\n",
    "print(\"The average cost per kWh is: {:.2f} cents\".format(average_cost))"
   ]
  },
  {
   "cell_type": "code",
   "execution_count": null,
   "id": "464d80f5-146f-400c-9522-db5450e4eae6",
   "metadata": {},
   "outputs": [],
   "source": []
  }
 ],
 "metadata": {
  "kernelspec": {
   "display_name": "Python 3 (ipykernel)",
   "language": "python",
   "name": "python3"
  },
  "language_info": {
   "codemirror_mode": {
    "name": "ipython",
    "version": 3
   },
   "file_extension": ".py",
   "mimetype": "text/x-python",
   "name": "python",
   "nbconvert_exporter": "python",
   "pygments_lexer": "ipython3",
   "version": "3.11.5"
  }
 },
 "nbformat": 4,
 "nbformat_minor": 5
}
