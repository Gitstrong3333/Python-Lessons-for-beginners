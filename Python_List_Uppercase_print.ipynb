{
 "cells": [
  {
   "cell_type": "code",
   "execution_count": 1,
   "id": "265f1570-8ebd-4713-98eb-28328750152e",
   "metadata": {},
   "outputs": [
    {
     "name": "stdout",
     "output_type": "stream",
     "text": [
      "['Funny', 'Smart', 'Coby', 'Coby2']\n"
     ]
    }
   ],
   "source": [
    "List1 = ['Funny', 'Smart']\n",
    "List2 = ['Coby', 'Coby2']\n",
    "\n",
    "List1.extend(List2)\n",
    "print(List1)"
   ]
  },
  {
   "cell_type": "code",
   "execution_count": 2,
   "id": "33164764-5622-48b6-9019-71858a7dbcb9",
   "metadata": {},
   "outputs": [
    {
     "name": "stdout",
     "output_type": "stream",
     "text": [
      "['B', 'C']\n"
     ]
    }
   ],
   "source": [
    "letters =[\"A\", \"B\", \"C\"]\n",
    "\n",
    "letters.pop(0)\n",
    "\n",
    "print(letters)"
   ]
  },
  {
   "cell_type": "code",
   "execution_count": 1,
   "id": "163a385a-bf34-4e2f-b7d8-2faaf59a619f",
   "metadata": {},
   "outputs": [
    {
     "name": "stdout",
     "output_type": "stream",
     "text": [
      "Liberal Kite\n",
      "2\n",
      "True\n",
      "False\n",
      "Chack = Sh Chack\n",
      "Kite = Liberal Kite\n"
     ]
    }
   ],
   "source": [
    "people = { 'Chack' : 'Sh Chack',\n",
    "           'Kite' : 'Liberal Kite' }\n",
    "print(people['Kite'])\n",
    "peoples = len(people)\n",
    "print(peoples)\n",
    "print('Chack' in people)\n",
    "print('Kites' in people)\n",
    "for key, value in people.items():\n",
    "    print(key, \"=\", value)"
   ]
  },
  {
   "cell_type": "code",
   "execution_count": 2,
   "id": "35141290-939a-41b7-aa02-6bb10874c33c",
   "metadata": {},
   "outputs": [
    {
     "name": "stdout",
     "output_type": "stream",
     "text": [
      "HelloSh\n"
     ]
    }
   ],
   "source": [
    "def hello(user_name):\n",
    "    print('Hello' + user_name)\n",
    "hello('Sh')"
   ]
  },
  {
   "cell_type": "code",
   "execution_count": 3,
   "id": "12082547-a265-4a4b-81e7-16608ee621a2",
   "metadata": {},
   "outputs": [
    {
     "name": "stdout",
     "output_type": "stream",
     "text": [
      "SH\n"
     ]
    }
   ],
   "source": [
    "def uppercaseof(text):\n",
    "   return text.upper()\n",
    "print(uppercaseof('sh'))"
   ]
  },
  {
   "cell_type": "code",
   "execution_count": null,
   "id": "099d2e34-5d09-46ea-82f3-cd2f69e6a95b",
   "metadata": {},
   "outputs": [],
   "source": []
  }
 ],
 "metadata": {
  "kernelspec": {
   "display_name": "Python 3 (ipykernel)",
   "language": "python",
   "name": "python3"
  },
  "language_info": {
   "codemirror_mode": {
    "name": "ipython",
    "version": 3
   },
   "file_extension": ".py",
   "mimetype": "text/x-python",
   "name": "python",
   "nbconvert_exporter": "python",
   "pygments_lexer": "ipython3",
   "version": "3.11.5"
  }
 },
 "nbformat": 4,
 "nbformat_minor": 5
}
