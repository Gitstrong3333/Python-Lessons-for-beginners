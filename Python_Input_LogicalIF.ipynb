{
 "cells": [
  {
   "cell_type": "code",
   "execution_count": 1,
   "id": "8218f9ca-f3fb-46e7-a027-5e65b9d60c46",
   "metadata": {},
   "outputs": [
    {
     "name": "stdout",
     "output_type": "stream",
     "text": [
      "1. Cat\n",
      "2. Dog\n",
      "3. Rabbit\n",
      "4. Monkey\n",
      "5. Leapard\n",
      "6. Bird\n"
     ]
    },
    {
     "name": "stdin",
     "output_type": "stream",
     "text": [
      "Select your favorite animal : 1\n"
     ]
    },
    {
     "name": "stdout",
     "output_type": "stream",
     "text": [
      "You have chosen Cat\n"
     ]
    },
    {
     "name": "stdin",
     "output_type": "stream",
     "text": [
      "Select your favorite voice : 4\n"
     ]
    },
    {
     "name": "stdout",
     "output_type": "stream",
     "text": [
      "1. Meow\n",
      "2. HOOWW\n",
      "3. kikiki\n",
      "4. keykey\n",
      "5. ssssss\n",
      "6. kakaka\n",
      "You have chosen a animal  that does not exist\n",
      "Have a great day\n"
     ]
    }
   ],
   "source": [
    "print(\"1. Cat\")\n",
    "print(\"2. Dog\")\n",
    "print(\"3. Rabbit\")\n",
    "print(\"4. Monkey\")\n",
    "print(\"5. Leapard\")\n",
    "print(\"6. Bird\")\n",
    "\n",
    "choice = int(input(\"Select your favorite animal :\"))\n",
    "\n",
    "if (choice == 1):\n",
    " print(\"You have chosen Cat\")\n",
    "elif (choice == 2):\n",
    " print(\"You have chosen Dog\")\n",
    "elif (choice == 3):\n",
    " print(\"You have chosen Rabbit\")\n",
    "elif (choice == 4):\n",
    " print(\"You have chosen Monkey\")\n",
    "elif (choice == 5):\n",
    " print(\"You have chosen Leopard\")\n",
    "elif (choice == 6):\n",
    " print(\"You have chosen Bird\")\n",
    "else:\n",
    " print(\"You have chosen a animal  that does not exist\")\n",
    " print(\"Have a great day\")\n",
    "\n",
    "voice = int(input(\"Select your favorite voice :\"))\n",
    "\n",
    "print(\"1. Meow\")\n",
    "print(\"2. HOOWW\")\n",
    "print(\"3. kikiki\")\n",
    "print(\"4. keykey\")\n",
    "print(\"5. ssssss\")\n",
    "print(\"6. kakaka\")\n",
    "\n",
    "if (choice == 1) and (voice == 1):\n",
    " print(\"You have chosen Cat\")\n",
    "elif (choice == 2) and (voice == 2) and (voice != 1):\n",
    " print(\"You have chosen Dog\") \n",
    "elif (choice == 3) and (voice == 3):\n",
    " print(\"You have chosen Rabbit\")\n",
    "elif (choice == 4) and (voice == 4):\n",
    " print(\"You have chosen Monkey\")\n",
    "elif (choice == 5) and (voice == 5):\n",
    " print(\"You have chosen Leopard\")\n",
    "elif (choice == 6) and (voice == 6):\n",
    " print(\"You have chosen Bird\")\n",
    "else:\n",
    " print(\"You have chosen a animal  that does not exist\")\n",
    " print(\"Have a great day\")\n",
    "            "
   ]
  },
  {
   "cell_type": "code",
   "execution_count": null,
   "id": "893f7edf-bc66-4203-b6af-0a373c2b4c22",
   "metadata": {},
   "outputs": [],
   "source": []
  }
 ],
 "metadata": {
  "kernelspec": {
   "display_name": "Python 3 (ipykernel)",
   "language": "python",
   "name": "python3"
  },
  "language_info": {
   "codemirror_mode": {
    "name": "ipython",
    "version": 3
   },
   "file_extension": ".py",
   "mimetype": "text/x-python",
   "name": "python",
   "nbconvert_exporter": "python",
   "pygments_lexer": "ipython3",
   "version": "3.11.5"
  }
 },
 "nbformat": 4,
 "nbformat_minor": 5
}
