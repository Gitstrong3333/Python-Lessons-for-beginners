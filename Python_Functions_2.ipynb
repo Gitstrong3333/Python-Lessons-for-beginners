{
 "cells": [
  {
   "cell_type": "code",
   "execution_count": 5,
   "id": "90807756-cd00-4baa-a282-eab469837f3b",
   "metadata": {},
   "outputs": [
    {
     "name": "stdout",
     "output_type": "stream",
     "text": [
      "CobyChack joined on 031924\n"
     ]
    }
   ],
   "source": [
    "import datetime as dt\n",
    "\n",
    "# How to make use of functions ,attributes \n",
    "class Member:\n",
    "    def __init__(self, username, fullname):\n",
    "         # define the attributes and give them the values\n",
    "       self.username = username\n",
    "       self.fullname = fullname\n",
    "       self.date_joined = dt.date.today() # Date functions\n",
    "       self.is_active = True\n",
    "\n",
    "    def datejoined(self):\n",
    "       return f\"{self.fullname} joined on {self.date_joined:%m%d%y}\"\n",
    "\n",
    "new = Member('Coby', 'CobyChack')\n",
    "\n",
    "print(new.datejoined())"
   ]
  },
  {
   "cell_type": "code",
   "execution_count": null,
   "id": "88fdc744-5961-4186-a679-b6dc90ef45f0",
   "metadata": {},
   "outputs": [],
   "source": []
  }
 ],
 "metadata": {
  "kernelspec": {
   "display_name": "Python 3 (ipykernel)",
   "language": "python",
   "name": "python3"
  },
  "language_info": {
   "codemirror_mode": {
    "name": "ipython",
    "version": 3
   },
   "file_extension": ".py",
   "mimetype": "text/x-python",
   "name": "python",
   "nbconvert_exporter": "python",
   "pygments_lexer": "ipython3",
   "version": "3.11.5"
  }
 },
 "nbformat": 4,
 "nbformat_minor": 5
}
