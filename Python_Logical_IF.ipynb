{
 "cells": [
  {
   "cell_type": "code",
   "execution_count": 1,
   "id": "3ded647c-5070-4422-b8d4-1dbf24ab8ef3",
   "metadata": {},
   "outputs": [
    {
     "name": "stdout",
     "output_type": "stream",
     "text": [
      "5\n"
     ]
    }
   ],
   "source": [
    "myvar = 5\n",
    "print(myvar)"
   ]
  },
  {
   "cell_type": "code",
   "execution_count": null,
   "id": "aea9439d-fcd2-46d7-80c1-684097052253",
   "metadata": {},
   "outputs": [],
   "source": [
    "# Getting user input "
   ]
  },
  {
   "cell_type": "code",
   "execution_count": 4,
   "id": "5cd56ec8-de33-4ec5-a885-c7edf33e016a",
   "metadata": {},
   "outputs": [
    {
     "name": "stdin",
     "output_type": "stream",
     "text": [
      "enter the 1st number : 4\n",
      "enter the 2nd number : 6\n"
     ]
    },
    {
     "name": "stdout",
     "output_type": "stream",
     "text": [
      "num2 is greater\n"
     ]
    }
   ],
   "source": [
    "num1 = int(input(\"enter the 1st number :\"))\n",
    "num2 = int(input(\"enter the 2nd number :\"))\n",
    "\n",
    "if(num1 > num2):\n",
    "  print(\"num1 is greater\")\n",
    "elif(num2 > num1):\n",
    "  print(\"num2 is greater\")\n",
    "           "
   ]
  },
  {
   "cell_type": "code",
   "execution_count": 8,
   "id": "9fad1cd0-ea64-4246-b84f-c634f5ecd4c3",
   "metadata": {},
   "outputs": [
    {
     "name": "stdin",
     "output_type": "stream",
     "text": [
      "Enter the TextMe Number : 890\n"
     ]
    },
    {
     "name": "stdout",
     "output_type": "stream",
     "text": [
      "TextMe does not equals 6!\n"
     ]
    }
   ],
   "source": [
    "TextMe = int(input(\"Enter the TextMe Number :\"))\n",
    "if TextMe == 6:\n",
    "    print(\"TextMe equals 6! \")\n",
    "else:\n",
    "    print(\"TextMe does not equals 6!\")"
   ]
  },
  {
   "cell_type": "code",
   "execution_count": 12,
   "id": "dfd535f3-a6a3-4ebb-ad5d-4909b7e7f168",
   "metadata": {},
   "outputs": [
    {
     "name": "stdout",
     "output_type": "stream",
     "text": [
      "1. Red\n",
      "2. Orange\n",
      "3. Yellow\n",
      "4. Green\n",
      "5. Blue\n",
      "6. Purple\n"
     ]
    },
    {
     "name": "stdin",
     "output_type": "stream",
     "text": [
      "Select your favorite color : 6\n"
     ]
    },
    {
     "name": "stdout",
     "output_type": "stream",
     "text": [
      "You have chosen Purple:\n"
     ]
    }
   ],
   "source": [
    "print(\"1. Red\")\n",
    "print(\"2. Orange\")\n",
    "print(\"3. Yellow\")\n",
    "print(\"4. Green\")\n",
    "print(\"5. Blue\")\n",
    "print(\"6. Purple\")\n",
    "\n",
    "choice = int(input(\"Select your favorite color :\"))\n",
    "\n",
    "#decision making\n",
    "\n",
    "if (choice == 1):\n",
    " print(\"You have chosen red:\")\n",
    "elif (choice == 2):\n",
    " print(\"You have chosen orange:\")\n",
    "elif (choice == 3):\n",
    " print(\"You have chosen Yellow:\")\n",
    "elif (choice == 4):\n",
    " print(\"You have chosen Green:\")\n",
    "elif (choice == 5):\n",
    " print(\"You have chosen Blue:\")\n",
    "elif (choice == 6):\n",
    " print(\"You have chosen Purple:\")\n",
    "else:\n",
    " print(\"You have chosen a number that does not exist\")\n",
    " print(\"Have a great day\")\n",
    "\n",
    "\n",
    "\n",
    "\n",
    "\n",
    "\n",
    "\n",
    "\n"
   ]
  },
  {
   "cell_type": "code",
   "execution_count": 9,
   "id": "d507b8c7-90e9-4526-bfc2-2b34b1382ea1",
   "metadata": {},
   "outputs": [
    {
     "name": "stdout",
     "output_type": "stream",
     "text": [
      "1. Cat\n",
      "2. Dog\n",
      "3. Rabbit\n",
      "4. Monkey\n",
      "5. Leapard\n",
      "6. Bird\n"
     ]
    },
    {
     "name": "stdin",
     "output_type": "stream",
     "text": [
      "Select your favorite animal : 2\n"
     ]
    },
    {
     "name": "stdout",
     "output_type": "stream",
     "text": [
      "You have chosen Dog\n"
     ]
    },
    {
     "name": "stdin",
     "output_type": "stream",
     "text": [
      "Select your favorite voice : 2\n"
     ]
    },
    {
     "name": "stdout",
     "output_type": "stream",
     "text": [
      "1. Meow\n",
      "2. HOOWW\n",
      "3. kikiki\n",
      "4. keykey\n",
      "5. ssssss\n",
      "6. kakaka\n",
      "You have chosen Dog\n"
     ]
    }
   ],
   "source": [
    "print(\"1. Cat\")\n",
    "print(\"2. Dog\")\n",
    "print(\"3. Rabbit\")\n",
    "print(\"4. Monkey\")\n",
    "print(\"5. Leapard\")\n",
    "print(\"6. Bird\")\n",
    "\n",
    "choice = int(input(\"Select your favorite animal :\"))\n",
    "\n",
    "if (choice == 1):\n",
    " print(\"You have chosen Cat\")\n",
    "elif (choice == 2):\n",
    " print(\"You have chosen Dog\")\n",
    "elif (choice == 3):\n",
    " print(\"You have chosen Rabbit\")\n",
    "elif (choice == 4):\n",
    " print(\"You have chosen Monkey\")\n",
    "elif (choice == 5):\n",
    " print(\"You have chosen Leopard\")\n",
    "elif (choice == 6):\n",
    " print(\"You have chosen Bird\")\n",
    "else:\n",
    " print(\"You have chosen a animal  that does not exist\")\n",
    " print(\"Have a great day\")\n",
    "\n",
    "voice = int(input(\"Select your favorite voice :\"))\n",
    "\n",
    "print(\"1. Meow\")\n",
    "print(\"2. HOOWW\")\n",
    "print(\"3. kikiki\")\n",
    "print(\"4. keykey\")\n",
    "print(\"5. ssssss\")\n",
    "print(\"6. kakaka\")\n",
    "\n",
    "if (choice == 1) and (voice == 1):\n",
    " print(\"You have chosen Cat\")\n",
    "elif (choice == 2) and (voice == 2) and (voice != 1):\n",
    " print(\"You have chosen Dog\") \n",
    "elif (choice == 3) and (voice == 3):\n",
    " print(\"You have chosen Rabbit\")\n",
    "elif (choice == 4) and (voice == 4):\n",
    " print(\"You have chosen Monkey\")\n",
    "elif (choice == 5) and (voice == 5):\n",
    " print(\"You have chosen Leopard\")\n",
    "elif (choice == 6) and (voice == 6):\n",
    " print(\"You have chosen Bird\")\n",
    "else:\n",
    " print(\"You have chosen a animal  that does not exist\")\n",
    " print(\"Have a great day\")\n",
    "            \n",
    "\n",
    "            \n"
   ]
  },
  {
   "cell_type": "code",
   "execution_count": null,
   "id": "9e904bad-d9bd-4b30-8c78-b503d2fd36d5",
   "metadata": {},
   "outputs": [],
   "source": [
    "# Great Job Sharmila ----"
   ]
  },
  {
   "cell_type": "code",
   "execution_count": 13,
   "id": "619e77cc-6d6f-48ee-85d5-7e869f5f9776",
   "metadata": {},
   "outputs": [
    {
     "name": "stderr",
     "output_type": "stream",
     "text": [
      "C:\\Users\\senth\\AppData\\Local\\Temp\\ipykernel_13532\\1566669122.py:5: DtypeWarning: Columns (9,10,11,14,15,16,17) have mixed types. Specify dtype option on import or set low_memory=False.\n",
      "  df =pd.read_csv(\"C:/Users/senth/OneDrive/Desktop/electricity.csv\")\n"
     ]
    }
   ],
   "source": [
    "import seaborn as sns\n",
    "import matplotlib.pyplot as plt\n",
    "from sklearn.cluster import KMeans\n",
    "import warnings\n",
    "df =pd.read_csv(\"C:/Users/senth/OneDrive/Desktop/electricity.csv\")"
   ]
  },
  {
   "cell_type": "code",
   "execution_count": 14,
   "id": "e4175cab-9a47-4d77-90ac-36cf218bb851",
   "metadata": {},
   "outputs": [
    {
     "data": {
      "text/html": [
       "<div>\n",
       "<style scoped>\n",
       "    .dataframe tbody tr th:only-of-type {\n",
       "        vertical-align: middle;\n",
       "    }\n",
       "\n",
       "    .dataframe tbody tr th {\n",
       "        vertical-align: top;\n",
       "    }\n",
       "\n",
       "    .dataframe thead th {\n",
       "        text-align: right;\n",
       "    }\n",
       "</style>\n",
       "<table border=\"1\" class=\"dataframe\">\n",
       "  <thead>\n",
       "    <tr style=\"text-align: right;\">\n",
       "      <th></th>\n",
       "      <th>DateTime</th>\n",
       "      <th>Holiday</th>\n",
       "      <th>HolidayFlag</th>\n",
       "      <th>DayOfWeek</th>\n",
       "      <th>WeekOfYear</th>\n",
       "      <th>Day</th>\n",
       "      <th>Month</th>\n",
       "      <th>Year</th>\n",
       "      <th>PeriodOfDay</th>\n",
       "      <th>ForecastWindProduction</th>\n",
       "      <th>SystemLoadEA</th>\n",
       "      <th>SMPEA</th>\n",
       "      <th>ORKTemperature</th>\n",
       "      <th>ORKWindspeed</th>\n",
       "      <th>CO2Intensity</th>\n",
       "      <th>ActualWindProduction</th>\n",
       "      <th>SystemLoadEP2</th>\n",
       "      <th>SMPEP2</th>\n",
       "    </tr>\n",
       "  </thead>\n",
       "  <tbody>\n",
       "    <tr>\n",
       "      <th>0</th>\n",
       "      <td>01/11/2011 00:00</td>\n",
       "      <td>NaN</td>\n",
       "      <td>0</td>\n",
       "      <td>1</td>\n",
       "      <td>44</td>\n",
       "      <td>1</td>\n",
       "      <td>11</td>\n",
       "      <td>2011</td>\n",
       "      <td>0</td>\n",
       "      <td>315.31</td>\n",
       "      <td>3388.77</td>\n",
       "      <td>49.26</td>\n",
       "      <td>6.00</td>\n",
       "      <td>9.30</td>\n",
       "      <td>600.71</td>\n",
       "      <td>356.00</td>\n",
       "      <td>3159.60</td>\n",
       "      <td>54.32</td>\n",
       "    </tr>\n",
       "    <tr>\n",
       "      <th>1</th>\n",
       "      <td>01/11/2011 00:30</td>\n",
       "      <td>NaN</td>\n",
       "      <td>0</td>\n",
       "      <td>1</td>\n",
       "      <td>44</td>\n",
       "      <td>1</td>\n",
       "      <td>11</td>\n",
       "      <td>2011</td>\n",
       "      <td>1</td>\n",
       "      <td>321.80</td>\n",
       "      <td>3196.66</td>\n",
       "      <td>49.26</td>\n",
       "      <td>6.00</td>\n",
       "      <td>11.10</td>\n",
       "      <td>605.42</td>\n",
       "      <td>317.00</td>\n",
       "      <td>2973.01</td>\n",
       "      <td>54.23</td>\n",
       "    </tr>\n",
       "    <tr>\n",
       "      <th>2</th>\n",
       "      <td>01/11/2011 01:00</td>\n",
       "      <td>NaN</td>\n",
       "      <td>0</td>\n",
       "      <td>1</td>\n",
       "      <td>44</td>\n",
       "      <td>1</td>\n",
       "      <td>11</td>\n",
       "      <td>2011</td>\n",
       "      <td>2</td>\n",
       "      <td>328.57</td>\n",
       "      <td>3060.71</td>\n",
       "      <td>49.10</td>\n",
       "      <td>5.00</td>\n",
       "      <td>11.10</td>\n",
       "      <td>589.97</td>\n",
       "      <td>311.00</td>\n",
       "      <td>2834.00</td>\n",
       "      <td>54.23</td>\n",
       "    </tr>\n",
       "    <tr>\n",
       "      <th>3</th>\n",
       "      <td>01/11/2011 01:30</td>\n",
       "      <td>NaN</td>\n",
       "      <td>0</td>\n",
       "      <td>1</td>\n",
       "      <td>44</td>\n",
       "      <td>1</td>\n",
       "      <td>11</td>\n",
       "      <td>2011</td>\n",
       "      <td>3</td>\n",
       "      <td>335.60</td>\n",
       "      <td>2945.56</td>\n",
       "      <td>48.04</td>\n",
       "      <td>6.00</td>\n",
       "      <td>9.30</td>\n",
       "      <td>585.94</td>\n",
       "      <td>313.00</td>\n",
       "      <td>2725.99</td>\n",
       "      <td>53.47</td>\n",
       "    </tr>\n",
       "    <tr>\n",
       "      <th>4</th>\n",
       "      <td>01/11/2011 02:00</td>\n",
       "      <td>NaN</td>\n",
       "      <td>0</td>\n",
       "      <td>1</td>\n",
       "      <td>44</td>\n",
       "      <td>1</td>\n",
       "      <td>11</td>\n",
       "      <td>2011</td>\n",
       "      <td>4</td>\n",
       "      <td>342.90</td>\n",
       "      <td>2849.34</td>\n",
       "      <td>33.75</td>\n",
       "      <td>6.00</td>\n",
       "      <td>11.10</td>\n",
       "      <td>571.52</td>\n",
       "      <td>346.00</td>\n",
       "      <td>2655.64</td>\n",
       "      <td>39.87</td>\n",
       "    </tr>\n",
       "  </tbody>\n",
       "</table>\n",
       "</div>"
      ],
      "text/plain": [
       "           DateTime Holiday  HolidayFlag  DayOfWeek  WeekOfYear  Day  Month  \\\n",
       "0  01/11/2011 00:00     NaN            0          1          44    1     11   \n",
       "1  01/11/2011 00:30     NaN            0          1          44    1     11   \n",
       "2  01/11/2011 01:00     NaN            0          1          44    1     11   \n",
       "3  01/11/2011 01:30     NaN            0          1          44    1     11   \n",
       "4  01/11/2011 02:00     NaN            0          1          44    1     11   \n",
       "\n",
       "   Year  PeriodOfDay ForecastWindProduction SystemLoadEA  SMPEA  \\\n",
       "0  2011            0                 315.31      3388.77  49.26   \n",
       "1  2011            1                 321.80      3196.66  49.26   \n",
       "2  2011            2                 328.57      3060.71  49.10   \n",
       "3  2011            3                 335.60      2945.56  48.04   \n",
       "4  2011            4                 342.90      2849.34  33.75   \n",
       "\n",
       "  ORKTemperature ORKWindspeed CO2Intensity ActualWindProduction SystemLoadEP2  \\\n",
       "0           6.00         9.30       600.71               356.00       3159.60   \n",
       "1           6.00        11.10       605.42               317.00       2973.01   \n",
       "2           5.00        11.10       589.97               311.00       2834.00   \n",
       "3           6.00         9.30       585.94               313.00       2725.99   \n",
       "4           6.00        11.10       571.52               346.00       2655.64   \n",
       "\n",
       "  SMPEP2  \n",
       "0  54.32  \n",
       "1  54.23  \n",
       "2  54.23  \n",
       "3  53.47  \n",
       "4  39.87  "
      ]
     },
     "execution_count": 14,
     "metadata": {},
     "output_type": "execute_result"
    }
   ],
   "source": [
    "df.head()\n"
   ]
  },
  {
   "cell_type": "code",
   "execution_count": 15,
   "id": "b54a6387-f5ff-4781-b4b5-5b069491d627",
   "metadata": {},
   "outputs": [
    {
     "data": {
      "text/html": [
       "<div>\n",
       "<style scoped>\n",
       "    .dataframe tbody tr th:only-of-type {\n",
       "        vertical-align: middle;\n",
       "    }\n",
       "\n",
       "    .dataframe tbody tr th {\n",
       "        vertical-align: top;\n",
       "    }\n",
       "\n",
       "    .dataframe thead th {\n",
       "        text-align: right;\n",
       "    }\n",
       "</style>\n",
       "<table border=\"1\" class=\"dataframe\">\n",
       "  <thead>\n",
       "    <tr style=\"text-align: right;\">\n",
       "      <th></th>\n",
       "      <th>HolidayFlag</th>\n",
       "      <th>DayOfWeek</th>\n",
       "      <th>WeekOfYear</th>\n",
       "      <th>Day</th>\n",
       "      <th>Month</th>\n",
       "      <th>Year</th>\n",
       "      <th>PeriodOfDay</th>\n",
       "    </tr>\n",
       "  </thead>\n",
       "  <tbody>\n",
       "    <tr>\n",
       "      <th>count</th>\n",
       "      <td>38014.000000</td>\n",
       "      <td>38014.000000</td>\n",
       "      <td>38014.000000</td>\n",
       "      <td>38014.000000</td>\n",
       "      <td>38014.000000</td>\n",
       "      <td>38014.000000</td>\n",
       "      <td>38014.000000</td>\n",
       "    </tr>\n",
       "    <tr>\n",
       "      <th>mean</th>\n",
       "      <td>0.040406</td>\n",
       "      <td>2.997317</td>\n",
       "      <td>28.124586</td>\n",
       "      <td>15.739412</td>\n",
       "      <td>6.904246</td>\n",
       "      <td>2012.383859</td>\n",
       "      <td>23.501105</td>\n",
       "    </tr>\n",
       "    <tr>\n",
       "      <th>std</th>\n",
       "      <td>0.196912</td>\n",
       "      <td>1.999959</td>\n",
       "      <td>15.587575</td>\n",
       "      <td>8.804247</td>\n",
       "      <td>3.573696</td>\n",
       "      <td>0.624956</td>\n",
       "      <td>13.853108</td>\n",
       "    </tr>\n",
       "    <tr>\n",
       "      <th>min</th>\n",
       "      <td>0.000000</td>\n",
       "      <td>0.000000</td>\n",
       "      <td>1.000000</td>\n",
       "      <td>1.000000</td>\n",
       "      <td>1.000000</td>\n",
       "      <td>2011.000000</td>\n",
       "      <td>0.000000</td>\n",
       "    </tr>\n",
       "    <tr>\n",
       "      <th>25%</th>\n",
       "      <td>0.000000</td>\n",
       "      <td>1.000000</td>\n",
       "      <td>15.000000</td>\n",
       "      <td>8.000000</td>\n",
       "      <td>4.000000</td>\n",
       "      <td>2012.000000</td>\n",
       "      <td>12.000000</td>\n",
       "    </tr>\n",
       "    <tr>\n",
       "      <th>50%</th>\n",
       "      <td>0.000000</td>\n",
       "      <td>3.000000</td>\n",
       "      <td>29.000000</td>\n",
       "      <td>16.000000</td>\n",
       "      <td>7.000000</td>\n",
       "      <td>2012.000000</td>\n",
       "      <td>24.000000</td>\n",
       "    </tr>\n",
       "    <tr>\n",
       "      <th>75%</th>\n",
       "      <td>0.000000</td>\n",
       "      <td>5.000000</td>\n",
       "      <td>43.000000</td>\n",
       "      <td>23.000000</td>\n",
       "      <td>10.000000</td>\n",
       "      <td>2013.000000</td>\n",
       "      <td>35.750000</td>\n",
       "    </tr>\n",
       "    <tr>\n",
       "      <th>max</th>\n",
       "      <td>1.000000</td>\n",
       "      <td>6.000000</td>\n",
       "      <td>52.000000</td>\n",
       "      <td>31.000000</td>\n",
       "      <td>12.000000</td>\n",
       "      <td>2013.000000</td>\n",
       "      <td>47.000000</td>\n",
       "    </tr>\n",
       "  </tbody>\n",
       "</table>\n",
       "</div>"
      ],
      "text/plain": [
       "        HolidayFlag     DayOfWeek    WeekOfYear           Day         Month  \\\n",
       "count  38014.000000  38014.000000  38014.000000  38014.000000  38014.000000   \n",
       "mean       0.040406      2.997317     28.124586     15.739412      6.904246   \n",
       "std        0.196912      1.999959     15.587575      8.804247      3.573696   \n",
       "min        0.000000      0.000000      1.000000      1.000000      1.000000   \n",
       "25%        0.000000      1.000000     15.000000      8.000000      4.000000   \n",
       "50%        0.000000      3.000000     29.000000     16.000000      7.000000   \n",
       "75%        0.000000      5.000000     43.000000     23.000000     10.000000   \n",
       "max        1.000000      6.000000     52.000000     31.000000     12.000000   \n",
       "\n",
       "               Year   PeriodOfDay  \n",
       "count  38014.000000  38014.000000  \n",
       "mean    2012.383859     23.501105  \n",
       "std        0.624956     13.853108  \n",
       "min     2011.000000      0.000000  \n",
       "25%     2012.000000     12.000000  \n",
       "50%     2012.000000     24.000000  \n",
       "75%     2013.000000     35.750000  \n",
       "max     2013.000000     47.000000  "
      ]
     },
     "execution_count": 15,
     "metadata": {},
     "output_type": "execute_result"
    }
   ],
   "source": [
    "df.describe()"
   ]
  },
  {
   "cell_type": "code",
   "execution_count": 17,
   "id": "89f83a3a-945b-484a-981c-74ee2aafeb2e",
   "metadata": {},
   "outputs": [
    {
     "data": {
      "text/plain": [
       "Index(['DateTime', 'Holiday', 'HolidayFlag', 'DayOfWeek', 'WeekOfYear', 'Day',\n",
       "       'Month', 'Year', 'PeriodOfDay', 'ForecastWindProduction',\n",
       "       'SystemLoadEA', 'SMPEA', 'ORKTemperature', 'ORKWindspeed',\n",
       "       'CO2Intensity', 'ActualWindProduction', 'SystemLoadEP2', 'SMPEP2'],\n",
       "      dtype='object')"
      ]
     },
     "execution_count": 17,
     "metadata": {},
     "output_type": "execute_result"
    }
   ],
   "source": [
    "df.columns\n"
   ]
  },
  {
   "cell_type": "code",
   "execution_count": null,
   "id": "0e7dd184-d6df-4568-af76-2b6fd7e0addb",
   "metadata": {},
   "outputs": [],
   "source": []
  }
 ],
 "metadata": {
  "kernelspec": {
   "display_name": "Python 3 (ipykernel)",
   "language": "python",
   "name": "python3"
  },
  "language_info": {
   "codemirror_mode": {
    "name": "ipython",
    "version": 3
   },
   "file_extension": ".py",
   "mimetype": "text/x-python",
   "name": "python",
   "nbconvert_exporter": "python",
   "pygments_lexer": "ipython3",
   "version": "3.11.5"
  }
 },
 "nbformat": 4,
 "nbformat_minor": 5
}
