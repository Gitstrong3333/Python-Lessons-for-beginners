{
 "cells": [
  {
   "cell_type": "code",
   "execution_count": null,
   "id": "5fbadb9a-df53-4328-85ec-812fee77c69d",
   "metadata": {},
   "outputs": [],
   "source": []
  },
  {
   "cell_type": "code",
   "execution_count": 3,
   "id": "08d83cb8-e2f9-4bcf-b074-932a0d79e013",
   "metadata": {},
   "outputs": [
    {
     "name": "stdout",
     "output_type": "stream",
     "text": [
      "         Date        Open        High         Low   Close  Adj Close  \\\n",
      "0  2023-01-23  135.869995  145.380005  134.270004  143.75     143.75   \n",
      "\n",
      "      Volume  \n",
      "0  203119200  \n"
     ]
    }
   ],
   "source": [
    "import pandas as pd\n",
    "\n",
    "# I want to get the first location of the data\n",
    "# the memory location (represents the storage space )- \n",
    "# it starts from the 0th location as m[0],m[1]...so on..]\n",
    "\n",
    "data = {\n",
    "    'Date': ['2023-01-23', '2023-01-24', '2023-01-25', '2023-01-26', '2023-01-27'],\n",
    "    'Open': [135.869995, 143.0, 141.910004, 159.970001, 162.429993],\n",
    "    'High': [145.380005, 146.5, 146.410004, 161.419998, 180.679993],\n",
    "    'Low': [134.270004, 141.100006, 138.070007, 154.759995, 161.169998],\n",
    "    'Close': [143.75, 143.889999, 144.429993, 160.270004, 177.899994],\n",
    "    'Adj Close': [143.75, 143.889999, 144.429993, 160.270004, 177.899994],\n",
    "    'Volume': [203119200, 158699100, 192734300, 234815100, 306590600]\n",
    "}\n",
    "\n",
    "df = pd.DataFrame(data)\n",
    "\n",
    "# Subset of row 1\n",
    "row_1 = df.iloc[[0]] # iloc represents the location of the data\n",
    "\n",
    "print(row_1)"
   ]
  },
  {
   "cell_type": "code",
   "execution_count": null,
   "id": "f1d5eb88-148b-4ce2-ace3-58dc9f4d4991",
   "metadata": {},
   "outputs": [],
   "source": []
  },
  {
   "cell_type": "code",
   "execution_count": null,
   "id": "23976bc1-3769-4e94-93fd-26c69a10bcba",
   "metadata": {},
   "outputs": [],
   "source": []
  }
 ],
 "metadata": {
  "kernelspec": {
   "display_name": "Python 3 (ipykernel)",
   "language": "python",
   "name": "python3"
  },
  "language_info": {
   "codemirror_mode": {
    "name": "ipython",
    "version": 3
   },
   "file_extension": ".py",
   "mimetype": "text/x-python",
   "name": "python",
   "nbconvert_exporter": "python",
   "pygments_lexer": "ipython3",
   "version": "3.11.5"
  }
 },
 "nbformat": 4,
 "nbformat_minor": 5
}
