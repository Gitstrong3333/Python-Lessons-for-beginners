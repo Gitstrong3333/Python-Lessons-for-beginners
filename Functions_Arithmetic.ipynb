{
 "cells": [
  {
   "cell_type": "code",
   "execution_count": 1,
   "id": "cbdf7c1a-630a-47dc-919d-bc01f99636c7",
   "metadata": {},
   "outputs": [
    {
     "name": "stdin",
     "output_type": "stream",
     "text": [
      "Enter the num1:  6\n",
      "Enter the num2:  7\n"
     ]
    },
    {
     "name": "stdout",
     "output_type": "stream",
     "text": [
      "   add  subtract  multiply    divide\n",
      "0   13        -1        42  0.857143\n"
     ]
    }
   ],
   "source": [
    "import pandas as pd\n",
    "\n",
    "def add(num1, num2):\n",
    "    return num1 + num2\n",
    "\n",
    "def subtract(num1, num2):\n",
    "    return num1 - num2\n",
    "\n",
    "def multiply(num1, num2):\n",
    "    return num1 * num2\n",
    "\n",
    "def divide(num1, num2):\n",
    "    return num1 / num2\n",
    "\n",
    "num11 = int(input(\"Enter the num1: \"))\n",
    "num22 = int(input(\"Enter the num2: \"))\n",
    "\n",
    "result1 = add(num11, num22)\n",
    "result2 = subtract(num11, num22)\n",
    "result3 = multiply(num11, num22)\n",
    "result4 = divide(num11, num22)\n",
    "\n",
    "Data = {\n",
    "    'add': [result1],\n",
    "    'subtract': [result2],\n",
    "    'multiply': [result3],\n",
    "    'divide': [result4]\n",
    "}\n",
    "\n",
    "df = pd.DataFrame(Data)\n",
    "print(df)"
   ]
  },
  {
   "cell_type": "code",
   "execution_count": 7,
   "id": "69820f85-4965-466b-a2eb-2be4ebd1dd85",
   "metadata": {},
   "outputs": [
    {
     "name": "stdin",
     "output_type": "stream",
     "text": [
      "Enter the num1:  45\n"
     ]
    },
    {
     "name": "stdout",
     "output_type": "stream",
     "text": [
      "   Prime\n",
      "0  False\n"
     ]
    }
   ],
   "source": [
    "import pandas as pd\n",
    "import math\n",
    "\n",
    "def is_prime(num1):\n",
    "    if num1 <= 1:\n",
    "        return False\n",
    "    for i in range(2, int(math.sqrt(num1)) + 1):\n",
    "        if num1 % i == 0:\n",
    "            return False\n",
    "    return True\n",
    "            \n",
    "num11 = int(input(\"Enter the num1: \"))\n",
    "\n",
    "result = is_prime(num11)\n",
    "\n",
    "Data = {\n",
    "    'Prime': [result]\n",
    "}\n",
    "\n",
    "df = pd.DataFrame(Data)\n",
    "print(df)"
   ]
  },
  {
   "cell_type": "code",
   "execution_count": 3,
   "id": "90fd040d-8601-4191-9d1c-1bf37db5628d",
   "metadata": {},
   "outputs": [
    {
     "name": "stdin",
     "output_type": "stream",
     "text": [
      "Enter the number:  6\n"
     ]
    },
    {
     "name": "stdout",
     "output_type": "stream",
     "text": [
      "   Even\n",
      "0  True\n"
     ]
    }
   ],
   "source": [
    "import pandas as pd\n",
    "\n",
    "def is_even(num1):\n",
    "    if (num1 % 2 == 0):\n",
    "        return num1 % 2 == 0\n",
    "    \n",
    "\n",
    "num1 = int(input(\"Enter the number: \"))\n",
    "\n",
    "result = is_even(num1)\n",
    "\n",
    "Data = {\n",
    "    'Even': [result]\n",
    "}\n",
    "\n",
    "df = pd.DataFrame(Data)\n",
    "print(df)"
   ]
  },
  {
   "cell_type": "code",
   "execution_count": null,
   "id": "0845da85-d676-44fb-8e16-dfff71a7d96f",
   "metadata": {},
   "outputs": [],
   "source": []
  }
 ],
 "metadata": {
  "kernelspec": {
   "display_name": "Python 3 (ipykernel)",
   "language": "python",
   "name": "python3"
  },
  "language_info": {
   "codemirror_mode": {
    "name": "ipython",
    "version": 3
   },
   "file_extension": ".py",
   "mimetype": "text/x-python",
   "name": "python",
   "nbconvert_exporter": "python",
   "pygments_lexer": "ipython3",
   "version": "3.11.5"
  }
 },
 "nbformat": 4,
 "nbformat_minor": 5
}
