{
 "cells": [
  {
   "cell_type": "code",
   "execution_count": 3,
   "id": "cf90d659-4401-429c-817b-7c8e2ad323bc",
   "metadata": {},
   "outputs": [
    {
     "name": "stdout",
     "output_type": "stream",
     "text": [
      "My name is Coby\n",
      "My name is Sharmila\n"
     ]
    }
   ],
   "source": [
    "class Robot:\n",
    "    def __init__(self, n, c, w):\n",
    "        self.name = n\n",
    "        self.color = c\n",
    "        self.weight = w\n",
    "\n",
    "    def introduce_self(self):\n",
    "        print(\"My name is \" + self.name)\n",
    "\n",
    "\n",
    "class Person:\n",
    "    def __init__(self, n, p, i):\n",
    "        self.name = n\n",
    "        self.personality = p\n",
    "        self.isSitting = i\n",
    "\n",
    "    def sit_down(self):\n",
    "        print(\"My name is \" + self.name)\n",
    "\n",
    "\n",
    "r1 = Robot(\"Sh\", \"red\", 30)\n",
    "r2 = Robot(\"Coby\", \"blue\", 40)\n",
    "\n",
    "p1 = Person(\"Alice\", \"aggressive\", False)\n",
    "p2 = Person(\"Becky\", \"aggressive\", True)\n",
    "\n",
    "p1.robot_owned = r2\n",
    "p2.robot_owned = r1\n",
    "\n",
    "\n",
    "p1.robot_owned.introduce_self()\n",
    "p2.robot_owned.introduce_self()"
   ]
  },
  {
   "cell_type": "code",
   "execution_count": null,
   "id": "177f4277-fe0d-4805-82a1-6cca5a2519d6",
   "metadata": {},
   "outputs": [],
   "source": []
  }
 ],
 "metadata": {
  "kernelspec": {
   "display_name": "Python 3 (ipykernel)",
   "language": "python",
   "name": "python3"
  },
  "language_info": {
   "codemirror_mode": {
    "name": "ipython",
    "version": 3
   },
   "file_extension": ".py",
   "mimetype": "text/x-python",
   "name": "python",
   "nbconvert_exporter": "python",
   "pygments_lexer": "ipython3",
   "version": "3.11.5"
  }
 },
 "nbformat": 4,
 "nbformat_minor": 5
}
