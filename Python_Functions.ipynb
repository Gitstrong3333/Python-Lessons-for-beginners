{
 "cells": [
  {
   "cell_type": "code",
   "execution_count": 1,
   "id": "e8b3bfb2-a54d-429e-8924-b47df3fbc1e6",
   "metadata": {},
   "outputs": [
    {
     "name": "stdin",
     "output_type": "stream",
     "text": [
      "Enter the electricity consumption: 1000\n",
      "Enter the Water consumption: 250\n",
      "Enter the gas consumption: 250\n",
      "Enter the building: b1\n",
      "Enter the City: knoxville\n"
     ]
    },
    {
     "name": "stdout",
     "output_type": "stream",
     "text": [
      "  Building       City      Utility  Cost\n",
      "0       b1  knoxville        Water   5.0\n",
      "1       b1  knoxville  Electricity  10.0\n",
      "2       b1  knoxville          Gas   5.0\n"
     ]
    }
   ],
   "source": [
    "import pandas as pd\n",
    "\n",
    "#functions \n",
    "def calculate_electricity_cost(consumption):\n",
    "    if consumption <= 1000:\n",
    "       return consumption * .01\n",
    "    elif consumption > 1000 and consumption <= 2000:\n",
    "       return 1000 * 0.01 + (consumption - 1000) * 0.02\n",
    "    else:\n",
    "       return consumption * .05\n",
    "\n",
    "def calculate_water_cost(consumption):\n",
    "    if consumption <= 500:\n",
    "      return consumption * .02\n",
    "    elif consumption > 500 and consumption <= 1000:\n",
    "      return 500 * .02 + (consumption - 500) * 0.03\n",
    "    else:\n",
    "      return consumption * .10\n",
    "\n",
    "def calculate_gas_cost(consumption): \n",
    "    if consumption <= 300:\n",
    "      return consumption * .01\n",
    "    elif consumption > 300 and consumption <= 500:   \n",
    "      return 300 * .01 + (consumption - 300) * 0.03\n",
    "    else:\n",
    "      return consumption * .03\n",
    "        \n",
    "\n",
    "# Get the input from the user\n",
    "Electricity_consumption = int(input(\"Enter the electricity consumption:\"))\n",
    "Water_consumption = int(input(\"Enter the Water consumption:\"))\n",
    "Gas_consumption = int(input(\"Enter the gas consumption:\"))\n",
    "Building = input(\"Enter the building:\")\n",
    "City = input(\"Enter the City:\")\n",
    "\n",
    "#Calculate the Cost\n",
    "Eb_cost = calculate_electricity_cost(Electricity_consumption)\n",
    "Water_cost = calculate_water_cost(Water_consumption)\n",
    "Gas_cost = calculate_water_cost(Gas_consumption)\n",
    "\n",
    "#Create data frame\n",
    "\n",
    "Data = {\n",
    "    'Building' : [Building, Building, Building],\n",
    "    'City': [City, City, City],\n",
    "    'Utility' : ['Water', 'Electricity', 'Gas'],\n",
    "    'Cost' : [Water_cost, Eb_cost, Gas_cost]\n",
    "     }\n",
    "df = pd.DataFrame(Data)\n",
    "print(df)"
   ]
  },
  {
   "cell_type": "code",
   "execution_count": null,
   "id": "1c740562-7df4-4970-ac62-76c7893de773",
   "metadata": {},
   "outputs": [],
   "source": []
  }
 ],
 "metadata": {
  "kernelspec": {
   "display_name": "Python 3 (ipykernel)",
   "language": "python",
   "name": "python3"
  },
  "language_info": {
   "codemirror_mode": {
    "name": "ipython",
    "version": 3
   },
   "file_extension": ".py",
   "mimetype": "text/x-python",
   "name": "python",
   "nbconvert_exporter": "python",
   "pygments_lexer": "ipython3",
   "version": "3.11.5"
  }
 },
 "nbformat": 4,
 "nbformat_minor": 5
}
