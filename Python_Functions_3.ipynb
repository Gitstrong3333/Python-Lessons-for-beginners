{
 "cells": [
  {
   "cell_type": "code",
   "execution_count": 2,
   "id": "d4ebe1b4-1621-4f64-b0dd-35cb7aac2b9c",
   "metadata": {},
   "outputs": [
    {
     "name": "stdout",
     "output_type": "stream",
     "text": [
      "Nanny\n",
      "NannyChack\n",
      "\n",
      "Coby\n",
      "CobyChack\n"
     ]
    }
   ],
   "source": [
    "class Member:\n",
    "    def __init__(self, username, fullname):\n",
    "         # define the attributes and give them the values\n",
    "       self.username = username\n",
    "       self.fullname = fullname\n",
    "new = Member('Nanny', 'NannyChack')\n",
    "\n",
    "print(new.username)\n",
    "print(new.fullname)\n",
    "\n",
    "print()\n",
    "new.username = 'Coby'\n",
    "new.fullname = 'CobyChack'\n",
    "print(new.username)\n",
    "print(new.fullname)"
   ]
  },
  {
   "cell_type": "code",
   "execution_count": null,
   "id": "d011ee7f-78b4-4011-afe3-bacc4ea47731",
   "metadata": {},
   "outputs": [],
   "source": []
  }
 ],
 "metadata": {
  "kernelspec": {
   "display_name": "Python 3 (ipykernel)",
   "language": "python",
   "name": "python3"
  },
  "language_info": {
   "codemirror_mode": {
    "name": "ipython",
    "version": 3
   },
   "file_extension": ".py",
   "mimetype": "text/x-python",
   "name": "python",
   "nbconvert_exporter": "python",
   "pygments_lexer": "ipython3",
   "version": "3.11.5"
  }
 },
 "nbformat": 4,
 "nbformat_minor": 5
}
