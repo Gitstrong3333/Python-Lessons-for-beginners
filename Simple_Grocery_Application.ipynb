{
 "cells": [
  {
   "cell_type": "code",
   "execution_count": 4,
   "id": "ae21270e-18dc-4f6e-8628-3e47cf47937c",
   "metadata": {},
   "outputs": [
    {
     "name": "stdout",
     "output_type": "stream",
     "text": [
      "Available Products:\n",
      "1. Apple - $1.0 - Quantity: 10\n",
      "2. Banana - $0.5 - Quantity: 20\n",
      "3. Orange - $0.75 - Quantity: 15\n",
      "4. StrawBerries - $0.75 - Quantity: 15\n"
     ]
    },
    {
     "name": "stdin",
     "output_type": "stream",
     "text": [
      "Enter the index of the product you want to purchase:  4\n",
      "Enter the quantity you want to purchase:  2\n"
     ]
    },
    {
     "name": "stdout",
     "output_type": "stream",
     "text": [
      "You purchased 2 StrawBerries(s) for $1.5.\n",
      "Available Products:\n",
      "1. Apple - $1.0 - Quantity: 10\n",
      "2. Banana - $0.5 - Quantity: 20\n",
      "3. Orange - $0.75 - Quantity: 15\n",
      "4. StrawBerries - $0.75 - Quantity: 13\n"
     ]
    }
   ],
   "source": [
    "class Product:\n",
    "    def __init__(self, name, price, quantity):\n",
    "        self.name = name\n",
    "        self.price = price\n",
    "        self.quantity = quantity\n",
    "\n",
    "class GroceryStore:\n",
    "    def __init__(self):\n",
    "        self.products = []\n",
    "\n",
    "    def add_product(self, product):\n",
    "        self.products.append(product)\n",
    "\n",
    "    def display_products(self):\n",
    "        print(\"Available Products:\")\n",
    "        for i, product in enumerate(self.products, 1):\n",
    "            print(f\"{i}. {product.name} - ${product.price} - Quantity: {product.quantity}\")\n",
    "\n",
    "    def purchase_product(self, product_index, quantity):\n",
    "        product = self.products[product_index]\n",
    "        if product.quantity >= quantity:\n",
    "            total_price = product.price * quantity\n",
    "            print(f\"You purchased {quantity} {product.name}(s) for ${total_price}.\")\n",
    "            product.quantity -= quantity\n",
    "        else:\n",
    "            print(\"Sorry, we don't have enough quantity of this product.\")\n",
    "\n",
    "# Sample usage\n",
    "if __name__ == \"__main__\":\n",
    "    store = GroceryStore()\n",
    "\n",
    "    # Adding products\n",
    "    store.add_product(Product(\"Apple\", 1.00, 10))\n",
    "    store.add_product(Product(\"Banana\", 0.50, 20))\n",
    "    store.add_product(Product(\"Orange\", 0.75, 15))\n",
    "    store.add_product(Product(\"StrawBerries\", 0.75, 15))\n",
    "\n",
    "    # Display available products\n",
    "    store.display_products()\n",
    "\n",
    "    # Purchase a product\n",
    "    product_index = int(input(\"Enter the index of the product you want to purchase: \")) - 1\n",
    "    quantity = int(input(\"Enter the quantity you want to purchase: \"))\n",
    "    store.purchase_product(product_index, quantity)\n",
    "\n",
    "    # Display updated available products\n",
    "    store.display_products()"
   ]
  },
  {
   "cell_type": "code",
   "execution_count": null,
   "id": "3d82e217-a912-4470-9d8a-18884e0178fd",
   "metadata": {},
   "outputs": [],
   "source": []
  }
 ],
 "metadata": {
  "kernelspec": {
   "display_name": "Python 3 (ipykernel)",
   "language": "python",
   "name": "python3"
  },
  "language_info": {
   "codemirror_mode": {
    "name": "ipython",
    "version": 3
   },
   "file_extension": ".py",
   "mimetype": "text/x-python",
   "name": "python",
   "nbconvert_exporter": "python",
   "pygments_lexer": "ipython3",
   "version": "3.11.5"
  }
 },
 "nbformat": 4,
 "nbformat_minor": 5
}
