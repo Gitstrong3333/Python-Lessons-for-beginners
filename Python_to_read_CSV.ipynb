{
 "cells": [
  {
   "cell_type": "code",
   "execution_count": 9,
   "id": "03d1b03c-abb1-4dcf-9700-47a9ba9805da",
   "metadata": {},
   "outputs": [
    {
     "name": "stdout",
     "output_type": "stream",
     "text": [
      "  Building  Total_Water_Cost  Total_EB_Cost  Total_Gas_Cost\n",
      "0    B1000          17307.95        3105.52            3378\n",
      "1    B1001          14085.85        3700.16            2187\n",
      "2    B1002          12976.50        3287.28            3173\n",
      "3    B1003          15458.80        2046.16            3581\n",
      "4    B1004          12887.10        2713.36            4709\n",
      "5    B1005          13811.05        2855.84            2810\n",
      "6    B1006          20069.95        2836.64            3660\n"
     ]
    }
   ],
   "source": [
    "import pandas as pd\n",
    "\n",
    "df = pd.read_csv(\"C:/Users/senth/OneDrive/Desktop/merged_data.csv\")\n",
    "\n",
    "df['Total_Water_Cost'] = df['Water Consumption'] * df['Water Cost']\n",
    "df['Total_EB_Cost']  = df['Electricity Consumption'] * df['Electricity Cost']\n",
    "df['Total_Gas_Cost'] = df['Gas Consumption'] * df['Gas Cost']\n",
    "\n",
    "Building_cost = df.groupby('Building') .agg({\n",
    "               'Total_Water_Cost' : 'sum', \n",
    "               'Total_EB_Cost' : 'sum',\n",
    "               'Total_Gas_Cost' : 'sum'                 \n",
    "}) .reset_index()\n",
    "\n",
    "print(Building_cost)\n",
    "               \n",
    "\n",
    "\n",
    "\n",
    "\n",
    "\n",
    "\n",
    "\n",
    "\n",
    "\n"
   ]
  },
  {
   "cell_type": "code",
   "execution_count": 3,
   "id": "d26505b6-5684-4680-b1b2-d0ca1e712694",
   "metadata": {},
   "outputs": [
    {
     "data": {
      "text/html": [
       "<div>\n",
       "<style scoped>\n",
       "    .dataframe tbody tr th:only-of-type {\n",
       "        vertical-align: middle;\n",
       "    }\n",
       "\n",
       "    .dataframe tbody tr th {\n",
       "        vertical-align: top;\n",
       "    }\n",
       "\n",
       "    .dataframe thead th {\n",
       "        text-align: right;\n",
       "    }\n",
       "</style>\n",
       "<table border=\"1\" class=\"dataframe\">\n",
       "  <thead>\n",
       "    <tr style=\"text-align: right;\">\n",
       "      <th></th>\n",
       "      <th>Date</th>\n",
       "      <th>Water Consumption</th>\n",
       "      <th>Water Cost</th>\n",
       "      <th>Electricity Consumption</th>\n",
       "      <th>Electricity Cost</th>\n",
       "      <th>Gas Consumption</th>\n",
       "      <th>Gas Cost</th>\n",
       "    </tr>\n",
       "  </thead>\n",
       "  <tbody>\n",
       "    <tr>\n",
       "      <th>count</th>\n",
       "      <td>7.0</td>\n",
       "      <td>7.000000</td>\n",
       "      <td>7.000000e+00</td>\n",
       "      <td>7.000000</td>\n",
       "      <td>7.00</td>\n",
       "      <td>7.000000</td>\n",
       "      <td>7.0</td>\n",
       "    </tr>\n",
       "    <tr>\n",
       "      <th>mean</th>\n",
       "      <td>2016.0</td>\n",
       "      <td>304563.428571</td>\n",
       "      <td>5.000000e-02</td>\n",
       "      <td>36687.428571</td>\n",
       "      <td>0.08</td>\n",
       "      <td>3356.857143</td>\n",
       "      <td>1.0</td>\n",
       "    </tr>\n",
       "    <tr>\n",
       "      <th>std</th>\n",
       "      <td>0.0</td>\n",
       "      <td>52716.385324</td>\n",
       "      <td>7.494862e-18</td>\n",
       "      <td>6442.352388</td>\n",
       "      <td>0.00</td>\n",
       "      <td>782.335697</td>\n",
       "      <td>0.0</td>\n",
       "    </tr>\n",
       "    <tr>\n",
       "      <th>min</th>\n",
       "      <td>2016.0</td>\n",
       "      <td>257742.000000</td>\n",
       "      <td>5.000000e-02</td>\n",
       "      <td>25577.000000</td>\n",
       "      <td>0.08</td>\n",
       "      <td>2187.000000</td>\n",
       "      <td>1.0</td>\n",
       "    </tr>\n",
       "    <tr>\n",
       "      <th>25%</th>\n",
       "      <td>2016.0</td>\n",
       "      <td>267875.500000</td>\n",
       "      <td>5.000000e-02</td>\n",
       "      <td>34687.500000</td>\n",
       "      <td>0.08</td>\n",
       "      <td>2991.500000</td>\n",
       "      <td>1.0</td>\n",
       "    </tr>\n",
       "    <tr>\n",
       "      <th>50%</th>\n",
       "      <td>2016.0</td>\n",
       "      <td>281717.000000</td>\n",
       "      <td>5.000000e-02</td>\n",
       "      <td>35698.000000</td>\n",
       "      <td>0.08</td>\n",
       "      <td>3378.000000</td>\n",
       "      <td>1.0</td>\n",
       "    </tr>\n",
       "    <tr>\n",
       "      <th>75%</th>\n",
       "      <td>2016.0</td>\n",
       "      <td>327667.500000</td>\n",
       "      <td>5.000000e-02</td>\n",
       "      <td>39955.000000</td>\n",
       "      <td>0.08</td>\n",
       "      <td>3620.500000</td>\n",
       "      <td>1.0</td>\n",
       "    </tr>\n",
       "    <tr>\n",
       "      <th>max</th>\n",
       "      <td>2016.0</td>\n",
       "      <td>401399.000000</td>\n",
       "      <td>5.000000e-02</td>\n",
       "      <td>46252.000000</td>\n",
       "      <td>0.08</td>\n",
       "      <td>4709.000000</td>\n",
       "      <td>1.0</td>\n",
       "    </tr>\n",
       "  </tbody>\n",
       "</table>\n",
       "</div>"
      ],
      "text/plain": [
       "         Date  Water Consumption    Water Cost  Electricity Consumption  \\\n",
       "count     7.0           7.000000  7.000000e+00                 7.000000   \n",
       "mean   2016.0      304563.428571  5.000000e-02             36687.428571   \n",
       "std       0.0       52716.385324  7.494862e-18              6442.352388   \n",
       "min    2016.0      257742.000000  5.000000e-02             25577.000000   \n",
       "25%    2016.0      267875.500000  5.000000e-02             34687.500000   \n",
       "50%    2016.0      281717.000000  5.000000e-02             35698.000000   \n",
       "75%    2016.0      327667.500000  5.000000e-02             39955.000000   \n",
       "max    2016.0      401399.000000  5.000000e-02             46252.000000   \n",
       "\n",
       "       Electricity Cost  Gas Consumption  Gas Cost  \n",
       "count              7.00         7.000000       7.0  \n",
       "mean               0.08      3356.857143       1.0  \n",
       "std                0.00       782.335697       0.0  \n",
       "min                0.08      2187.000000       1.0  \n",
       "25%                0.08      2991.500000       1.0  \n",
       "50%                0.08      3378.000000       1.0  \n",
       "75%                0.08      3620.500000       1.0  \n",
       "max                0.08      4709.000000       1.0  "
      ]
     },
     "execution_count": 3,
     "metadata": {},
     "output_type": "execute_result"
    }
   ],
   "source": [
    "df.describe()"
   ]
  },
  {
   "cell_type": "code",
   "execution_count": 5,
   "id": "b3407fe5-63bd-4cc6-98e3-a1cf83c5b47a",
   "metadata": {},
   "outputs": [
    {
     "data": {
      "text/plain": [
       "Index(['Date', 'Building', 'Water Consumption', 'Water Cost',\n",
       "       'Electricity Consumption', 'Electricity Cost', 'Gas Consumption',\n",
       "       'Gas Cost', 'City', 'Country'],\n",
       "      dtype='object')"
      ]
     },
     "execution_count": 5,
     "metadata": {},
     "output_type": "execute_result"
    }
   ],
   "source": [
    "df.columns"
   ]
  },
  {
   "cell_type": "code",
   "execution_count": 10,
   "id": "f88362b5-31a9-4e1d-a3e8-b81abaa7f69c",
   "metadata": {},
   "outputs": [
    {
     "name": "stdout",
     "output_type": "stream",
     "text": [
      "  Country         City Building  Total_Water_Cost  Total_EB_Cost  \\\n",
      "0     USA      Chicago    B1004          12887.10        2713.36   \n",
      "1     USA      Houston    B1005          13811.05        2855.84   \n",
      "2     USA  Los Angeles    B1003          15458.80        2046.16   \n",
      "3     USA     New York    B1000          17307.95        3105.52   \n",
      "4     USA     New York    B1001          14085.85        3700.16   \n",
      "5     USA     New York    B1002          12976.50        3287.28   \n",
      "6     USA      Phoenix    B1006          20069.95        2836.64   \n",
      "\n",
      "   Total_Gas_Cost  \n",
      "0            4709  \n",
      "1            2810  \n",
      "2            3581  \n",
      "3            3378  \n",
      "4            2187  \n",
      "5            3173  \n",
      "6            3660  \n"
     ]
    }
   ],
   "source": [
    "import pandas as pd\n",
    "\n",
    "df = pd.read_csv(\"C:/Users/senth/OneDrive/Desktop/merged_data.csv\")\n",
    "\n",
    "df['Total_Water_Cost'] = df['Water Consumption'] * df['Water Cost']\n",
    "df['Total_EB_Cost']  = df['Electricity Consumption'] * df['Electricity Cost']\n",
    "df['Total_Gas_Cost'] = df['Gas Consumption'] * df['Gas Cost']\n",
    "\n",
    "Building_cost = df.groupby(['Country', 'City', 'Building']).agg({\n",
    "               'Total_Water_Cost' : 'sum', \n",
    "               'Total_EB_Cost' : 'sum',\n",
    "               'Total_Gas_Cost' : 'sum'                 \n",
    "}).reset_index()\n",
    "\n",
    "print(Building_cost)"
   ]
  },
  {
   "cell_type": "code",
   "execution_count": null,
   "id": "b8c7b8f2-f8f2-4f4f-8c29-0185c74a77b7",
   "metadata": {},
   "outputs": [],
   "source": []
  }
 ],
 "metadata": {
  "kernelspec": {
   "display_name": "Python 3 (ipykernel)",
   "language": "python",
   "name": "python3"
  },
  "language_info": {
   "codemirror_mode": {
    "name": "ipython",
    "version": 3
   },
   "file_extension": ".py",
   "mimetype": "text/x-python",
   "name": "python",
   "nbconvert_exporter": "python",
   "pygments_lexer": "ipython3",
   "version": "3.11.5"
  }
 },
 "nbformat": 4,
 "nbformat_minor": 5
}
