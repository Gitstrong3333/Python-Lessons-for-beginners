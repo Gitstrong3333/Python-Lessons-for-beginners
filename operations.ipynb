{
 "cells": [
  {
   "cell_type": "code",
   "execution_count": 10,
   "id": "129c7840-86b0-4426-ac4b-4beb4e531d0b",
   "metadata": {},
   "outputs": [
    {
     "name": "stdout",
     "output_type": "stream",
     "text": [
      "Enter the operations you want to perform:\n",
      "1.Add\n",
      "2.Subtract\n",
      "3.Multiply\n",
      "4.Divide\n"
     ]
    },
    {
     "name": "stdin",
     "output_type": "stream",
     "text": [
      " 3\n",
      "Enter the First number : 23\n",
      "Enter the Second number : 56\n"
     ]
    },
    {
     "name": "stdout",
     "output_type": "stream",
     "text": [
      "The sum is :1288\n"
     ]
    }
   ],
   "source": [
    "print(\"Enter the operations you want to perform:\")\n",
    "print(\"1.Add\")\n",
    "print(\"2.Subtract\")\n",
    "print(\"3.Multiply\")\n",
    "print(\"4.Divide\")\n",
    "\n",
    "operations = input()\n",
    "\n",
    "if operations == '1':\n",
    "   num1 = input(\"Enter the First number :\")\n",
    "   num2 = input(\"Enter the Second number :\")\n",
    "   print(\"The sum is :\" +str(int(num1) + int(num2))) #\n",
    "elif operations == '2':\n",
    "   num1 = input(\"Enter the First number :\")\n",
    "   num2 = input(\"Enter the Second number :\")\n",
    "   print(\"The sum is :\" +str(int(num1) - int(num2)))\n",
    "elif operations == '3':\n",
    "   num1 = input(\"Enter the First number :\")\n",
    "   num2 = input(\"Enter the Second number :\")\n",
    "   print(\"The sum is :\" +str(int(num1) * int(num2)))\n",
    "elif operations == '4':\n",
    "   num1 = input(\"Enter the First number :\")\n",
    "   num2 = input(\"Enter the Second number :\")\n",
    "   print(\"The sum is :\" +str(int(num1) / int(num2)))\n",
    "else:\n",
    "   print(\"Invalid Entry\")"
   ]
  },
  {
   "cell_type": "code",
   "execution_count": null,
   "id": "0e7ca718-ac41-4c20-8d98-0d1a7105760e",
   "metadata": {},
   "outputs": [],
   "source": []
  }
 ],
 "metadata": {
  "kernelspec": {
   "display_name": "Python 3 (ipykernel)",
   "language": "python",
   "name": "python3"
  },
  "language_info": {
   "codemirror_mode": {
    "name": "ipython",
    "version": 3
   },
   "file_extension": ".py",
   "mimetype": "text/x-python",
   "name": "python",
   "nbconvert_exporter": "python",
   "pygments_lexer": "ipython3",
   "version": "3.11.5"
  }
 },
 "nbformat": 4,
 "nbformat_minor": 5
}
