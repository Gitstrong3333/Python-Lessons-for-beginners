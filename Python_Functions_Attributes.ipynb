{
 "cells": [
  {
   "cell_type": "code",
   "execution_count": 1,
   "id": "d2d1c735-22ea-4882-b965-b37b34b06c93",
   "metadata": {},
   "outputs": [
    {
     "name": "stdin",
     "output_type": "stream",
     "text": [
      "Enter the electricity consumption: 1000\n",
      "Enter the Water consumption: 200\n",
      "Enter the gas consumption: 10\n",
      "Enter the building: b1\n",
      "Enter the City: knoxville\n"
     ]
    },
    {
     "name": "stdout",
     "output_type": "stream",
     "text": [
      "  Building       City      Utility  Cost\n",
      "0       b1  knoxville  Electricity  10.0\n",
      "1       b1  knoxville        Water   4.0\n",
      "2       b1  knoxville          Gas   0.1\n"
     ]
    }
   ],
   "source": [
    "import pandas as pd\n",
    "\n",
    "class Utility:\n",
    "    def __init__(self, consumption):\n",
    "        self.consumption = consumption\n",
    "\n",
    "    def calculate_cost(self):\n",
    "        pass\n",
    "\n",
    "class Electricity(Utility):\n",
    "    def calculate_cost(self):\n",
    "        if self.consumption <= 1000:\n",
    "            return self.consumption * 0.01\n",
    "        elif 1000 < self.consumption <= 2000:\n",
    "            return 1000 * 0.01 + (self.consumption - 1000) * 0.02\n",
    "        else:\n",
    "            return self.consumption * 0.05\n",
    "\n",
    "class Water(Utility):\n",
    "    def calculate_cost(self):\n",
    "        if self.consumption <= 500:\n",
    "            return self.consumption * 0.02\n",
    "        elif 500 < self.consumption <= 1000:\n",
    "            return 500 * 0.02 + (self.consumption - 500) * 0.03\n",
    "        else:\n",
    "            return self.consumption * 0.10\n",
    "\n",
    "class Gas(Utility):\n",
    "    def calculate_cost(self):\n",
    "        if self.consumption <= 300:\n",
    "            return self.consumption * 0.01\n",
    "        elif 300 < self.consumption <= 500:\n",
    "            return 300 * 0.01 + (self.consumption - 300) * 0.03\n",
    "        else:\n",
    "            return self.consumption * 0.03\n",
    "\n",
    "# Get the input from the user\n",
    "consumptions = {\n",
    "    \"Electricity\": int(input(\"Enter the electricity consumption:\")),\n",
    "    \"Water\": int(input(\"Enter the Water consumption:\")),\n",
    "    \"Gas\": int(input(\"Enter the gas consumption:\"))\n",
    "}\n",
    "building = input(\"Enter the building:\")\n",
    "city = input(\"Enter the City:\")\n",
    "\n",
    "# Calculate the costs\n",
    "costs = {}\n",
    "for utility_type, consumption in consumptions.items():\n",
    "    utility_obj = None\n",
    "    if utility_type == \"Electricity\":\n",
    "        utility_obj = Electricity(consumption)\n",
    "    elif utility_type == \"Water\":\n",
    "        utility_obj = Water(consumption)\n",
    "    elif utility_type == \"Gas\":\n",
    "        utility_obj = Gas(consumption)\n",
    "    costs[utility_type] = utility_obj.calculate_cost()\n",
    "\n",
    "# Create data frame\n",
    "data = {\n",
    "    'Building': [building] * len(consumptions),\n",
    "    'City': [city] * len(consumptions),\n",
    "    'Utility': list(consumptions.keys()),\n",
    "    'Cost': list(costs.values())\n",
    "}\n",
    "df = pd.DataFrame(data)\n",
    "print(df)"
   ]
  },
  {
   "cell_type": "code",
   "execution_count": null,
   "id": "3120412f-f318-4590-b327-a4f3480ac89d",
   "metadata": {},
   "outputs": [],
   "source": []
  }
 ],
 "metadata": {
  "kernelspec": {
   "display_name": "Python 3 (ipykernel)",
   "language": "python",
   "name": "python3"
  },
  "language_info": {
   "codemirror_mode": {
    "name": "ipython",
    "version": 3
   },
   "file_extension": ".py",
   "mimetype": "text/x-python",
   "name": "python",
   "nbconvert_exporter": "python",
   "pygments_lexer": "ipython3",
   "version": "3.11.5"
  }
 },
 "nbformat": 4,
 "nbformat_minor": 5
}
