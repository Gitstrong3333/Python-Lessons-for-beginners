{
 "cells": [
  {
   "cell_type": "code",
   "execution_count": 1,
   "id": "9e481e71-22ed-42fe-8357-a96accdf1715",
   "metadata": {},
   "outputs": [
    {
     "name": "stdout",
     "output_type": "stream",
     "text": [
      "Inner join:\n",
      "   key  value_x  value_y\n",
      "0   B        2        5\n",
      "1   D        4        6\n",
      "\n",
      "Left join:\n",
      "   key  value_x  value_y\n",
      "0   A        1      NaN\n",
      "1   B        2      5.0\n",
      "2   C        3      NaN\n",
      "3   D        4      6.0\n",
      "\n",
      "Right join:\n",
      "   key  value_x  value_y\n",
      "0   B      2.0        5\n",
      "1   D      4.0        6\n",
      "2   E      NaN        7\n",
      "3   F      NaN        8\n",
      "\n",
      "Outer join:\n",
      "   key  value_x  value_y\n",
      "0   A      1.0      NaN\n",
      "1   B      2.0      5.0\n",
      "2   C      3.0      NaN\n",
      "3   D      4.0      6.0\n",
      "4   E      NaN      7.0\n",
      "5   F      NaN      8.0\n"
     ]
    }
   ],
   "source": [
    "import pandas as pd\n",
    "\n",
    "# Create sample dataframes\n",
    "df1 = pd.DataFrame({'key': ['A', 'B', 'C', 'D'],\n",
    "                    'value': [1, 2, 3, 4]})\n",
    "df2 = pd.DataFrame({'key': ['B', 'D', 'E', 'F'],\n",
    "                    'value': [5, 6, 7, 8]})\n",
    "\n",
    "# Merge dataframes on 'key' column\n",
    "merged_df = pd.merge(df1, df2, on='key', how='inner')  # inner join on 'key' column\n",
    "print(\"Inner join:\\n\", merged_df)\n",
    "\n",
    "# You can also perform left, right, or outer joins\n",
    "left_merged = pd.merge(df1, df2, on='key', how='left')  # left join on 'key' column\n",
    "print(\"\\nLeft join:\\n\", left_merged)\n",
    "\n",
    "right_merged = pd.merge(df1, df2, on='key', how='right')  # right join on 'key' column\n",
    "print(\"\\nRight join:\\n\", right_merged)\n",
    "\n",
    "outer_merged = pd.merge(df1, df2, on='key', how='outer')  # outer join on 'key' column\n",
    "print(\"\\nOuter join:\\n\", outer_merged)"
   ]
  },
  {
   "cell_type": "code",
   "execution_count": null,
   "id": "3a431611-0dc1-475b-a210-9bc49e828d20",
   "metadata": {},
   "outputs": [],
   "source": []
  }
 ],
 "metadata": {
  "kernelspec": {
   "display_name": "Python 3 (ipykernel)",
   "language": "python",
   "name": "python3"
  },
  "language_info": {
   "codemirror_mode": {
    "name": "ipython",
    "version": 3
   },
   "file_extension": ".py",
   "mimetype": "text/x-python",
   "name": "python",
   "nbconvert_exporter": "python",
   "pygments_lexer": "ipython3",
   "version": "3.11.5"
  }
 },
 "nbformat": 4,
 "nbformat_minor": 5
}
